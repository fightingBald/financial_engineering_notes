{
 "cells": [
  {
   "cell_type": "code",
   "id": "initial_id",
   "metadata": {
    "collapsed": true,
    "ExecuteTime": {
     "end_time": "2025-07-03T10:52:14.735382Z",
     "start_time": "2025-07-03T10:52:13.843845Z"
    }
   },
   "source": [
    "import datetime\n",
    "import matplotlib.pyplot as plt\n",
    "import numpy as np\n",
    "import pandas as pd\n",
    "import yfinance as yfin\n",
    "import seaborn as sns\n",
    "import math\n",
    "from numpy import linalg as LA\n",
    "# Download stock prices from Yahoo Finance and set the time period for download\n",
    "start = datetime.date(2018, 1, 2)\n",
    "end = datetime.date(2023, 12, 31)\n",
    "stocks = yfin.download([\"AAPL\", \"F\", \"WMT\",\"PFE\"], start, end, auto_adjust = False)[\"Adj Close\"]\n",
    "stocks.head()"
   ],
   "outputs": [
    {
     "name": "stderr",
     "output_type": "stream",
     "text": [
      "[*********************100%***********************]  4 of 4 completed\n"
     ]
    },
    {
     "data": {
      "text/plain": [
       "Ticker           AAPL         F        PFE        WMT\n",
       "Date                                                 \n",
       "2018-01-02  40.426830  8.470927  25.081696  29.041033\n",
       "2018-01-03  40.419785  8.537839  25.267536  29.294361\n",
       "2018-01-04  40.607525  8.685043  25.322603  29.320866\n",
       "2018-01-05  41.069855  8.832248  25.370781  29.494652\n",
       "2018-01-08  40.917320  8.798791  25.088575  29.930613"
      ],
      "text/html": [
       "<div>\n",
       "<style scoped>\n",
       "    .dataframe tbody tr th:only-of-type {\n",
       "        vertical-align: middle;\n",
       "    }\n",
       "\n",
       "    .dataframe tbody tr th {\n",
       "        vertical-align: top;\n",
       "    }\n",
       "\n",
       "    .dataframe thead th {\n",
       "        text-align: right;\n",
       "    }\n",
       "</style>\n",
       "<table border=\"1\" class=\"dataframe\">\n",
       "  <thead>\n",
       "    <tr style=\"text-align: right;\">\n",
       "      <th>Ticker</th>\n",
       "      <th>AAPL</th>\n",
       "      <th>F</th>\n",
       "      <th>PFE</th>\n",
       "      <th>WMT</th>\n",
       "    </tr>\n",
       "    <tr>\n",
       "      <th>Date</th>\n",
       "      <th></th>\n",
       "      <th></th>\n",
       "      <th></th>\n",
       "      <th></th>\n",
       "    </tr>\n",
       "  </thead>\n",
       "  <tbody>\n",
       "    <tr>\n",
       "      <th>2018-01-02</th>\n",
       "      <td>40.426830</td>\n",
       "      <td>8.470927</td>\n",
       "      <td>25.081696</td>\n",
       "      <td>29.041033</td>\n",
       "    </tr>\n",
       "    <tr>\n",
       "      <th>2018-01-03</th>\n",
       "      <td>40.419785</td>\n",
       "      <td>8.537839</td>\n",
       "      <td>25.267536</td>\n",
       "      <td>29.294361</td>\n",
       "    </tr>\n",
       "    <tr>\n",
       "      <th>2018-01-04</th>\n",
       "      <td>40.607525</td>\n",
       "      <td>8.685043</td>\n",
       "      <td>25.322603</td>\n",
       "      <td>29.320866</td>\n",
       "    </tr>\n",
       "    <tr>\n",
       "      <th>2018-01-05</th>\n",
       "      <td>41.069855</td>\n",
       "      <td>8.832248</td>\n",
       "      <td>25.370781</td>\n",
       "      <td>29.494652</td>\n",
       "    </tr>\n",
       "    <tr>\n",
       "      <th>2018-01-08</th>\n",
       "      <td>40.917320</td>\n",
       "      <td>8.798791</td>\n",
       "      <td>25.088575</td>\n",
       "      <td>29.930613</td>\n",
       "    </tr>\n",
       "  </tbody>\n",
       "</table>\n",
       "</div>"
      ]
     },
     "execution_count": 1,
     "metadata": {},
     "output_type": "execute_result"
    }
   ],
   "execution_count": 1
  },
  {
   "metadata": {
    "ExecuteTime": {
     "end_time": "2025-07-03T10:52:17.553197Z",
     "start_time": "2025-07-03T10:52:17.548816Z"
    }
   },
   "cell_type": "code",
   "source": "stocks.index = pd.to_datetime(stocks.index).strftime(\"%Y-%m-%d\")",
   "id": "72240aca5ae89270",
   "outputs": [],
   "execution_count": 2
  },
  {
   "metadata": {
    "ExecuteTime": {
     "end_time": "2025-07-03T10:52:25.443476Z",
     "start_time": "2025-07-03T10:52:25.433756Z"
    }
   },
   "cell_type": "code",
   "source": [
    "# In order to calculate the returns of the stocks, we need to drop the NA rows.\n",
    "stocks_returns = stocks[[\"AAPL\", \"F\", \"WMT\",\"PFE\"]].dropna().pct_change()\n",
    "stocks_returns = stocks_returns.dropna()\n",
    "stocks_returns.head()"
   ],
   "id": "9a9fe69e116c38ca",
   "outputs": [
    {
     "data": {
      "text/plain": [
       "Ticker          AAPL         F       WMT       PFE\n",
       "Date                                              \n",
       "2018-01-03 -0.000174  0.007899  0.008723  0.007409\n",
       "2018-01-04  0.004645  0.017241  0.000905  0.002179\n",
       "2018-01-05  0.011385  0.016949  0.005927  0.001903\n",
       "2018-01-08 -0.003714 -0.003788  0.014781 -0.011123\n",
       "2018-01-09 -0.000115 -0.005323 -0.012007 -0.001097"
      ],
      "text/html": [
       "<div>\n",
       "<style scoped>\n",
       "    .dataframe tbody tr th:only-of-type {\n",
       "        vertical-align: middle;\n",
       "    }\n",
       "\n",
       "    .dataframe tbody tr th {\n",
       "        vertical-align: top;\n",
       "    }\n",
       "\n",
       "    .dataframe thead th {\n",
       "        text-align: right;\n",
       "    }\n",
       "</style>\n",
       "<table border=\"1\" class=\"dataframe\">\n",
       "  <thead>\n",
       "    <tr style=\"text-align: right;\">\n",
       "      <th>Ticker</th>\n",
       "      <th>AAPL</th>\n",
       "      <th>F</th>\n",
       "      <th>WMT</th>\n",
       "      <th>PFE</th>\n",
       "    </tr>\n",
       "    <tr>\n",
       "      <th>Date</th>\n",
       "      <th></th>\n",
       "      <th></th>\n",
       "      <th></th>\n",
       "      <th></th>\n",
       "    </tr>\n",
       "  </thead>\n",
       "  <tbody>\n",
       "    <tr>\n",
       "      <th>2018-01-03</th>\n",
       "      <td>-0.000174</td>\n",
       "      <td>0.007899</td>\n",
       "      <td>0.008723</td>\n",
       "      <td>0.007409</td>\n",
       "    </tr>\n",
       "    <tr>\n",
       "      <th>2018-01-04</th>\n",
       "      <td>0.004645</td>\n",
       "      <td>0.017241</td>\n",
       "      <td>0.000905</td>\n",
       "      <td>0.002179</td>\n",
       "    </tr>\n",
       "    <tr>\n",
       "      <th>2018-01-05</th>\n",
       "      <td>0.011385</td>\n",
       "      <td>0.016949</td>\n",
       "      <td>0.005927</td>\n",
       "      <td>0.001903</td>\n",
       "    </tr>\n",
       "    <tr>\n",
       "      <th>2018-01-08</th>\n",
       "      <td>-0.003714</td>\n",
       "      <td>-0.003788</td>\n",
       "      <td>0.014781</td>\n",
       "      <td>-0.011123</td>\n",
       "    </tr>\n",
       "    <tr>\n",
       "      <th>2018-01-09</th>\n",
       "      <td>-0.000115</td>\n",
       "      <td>-0.005323</td>\n",
       "      <td>-0.012007</td>\n",
       "      <td>-0.001097</td>\n",
       "    </tr>\n",
       "  </tbody>\n",
       "</table>\n",
       "</div>"
      ]
     },
     "execution_count": 3,
     "metadata": {},
     "output_type": "execute_result"
    }
   ],
   "execution_count": 3
  },
  {
   "metadata": {
    "ExecuteTime": {
     "end_time": "2025-07-03T10:52:48.250920Z",
     "start_time": "2025-07-03T10:52:48.234337Z"
    }
   },
   "cell_type": "code",
   "source": [
    "# Perform SVD for stock returns\n",
    "U, s, VT = np.linalg.svd(stocks_returns)\n",
    "\n",
    "# Present the result\n",
    "print(\"Stock Returns Matrix Dimension:\")\n",
    "print(stocks_returns.shape)\n",
    "print(\"\\nDimension of Matrix U:\")\n",
    "print(U.shape)\n",
    "print(\"\\nSingular values:\")\n",
    "print(s)\n",
    "print(\"\\nDimension of Matrix V^T:\")\n",
    "print(VT.shape)"
   ],
   "id": "387cbab3698beb3",
   "outputs": [
    {
     "name": "stdout",
     "output_type": "stream",
     "text": [
      "Stock Returns Matrix Dimension:\n",
      "(1508, 4)\n",
      "\n",
      "Dimension of Matrix U:\n",
      "(1508, 1508)\n",
      "\n",
      "Singular values:\n",
      "[1.11696774 0.72489545 0.55820578 0.47159252]\n",
      "\n",
      "Dimension of Matrix V^T:\n",
      "(4, 4)\n"
     ]
    }
   ],
   "execution_count": 4
  },
  {
   "metadata": {
    "ExecuteTime": {
     "end_time": "2025-07-03T11:45:17.442624Z",
     "start_time": "2025-07-03T11:45:17.314130Z"
    }
   },
   "cell_type": "code",
   "source": [
    "import numpy as np\n",
    "import matplotlib.pyplot as plt\n",
    "\n",
    "# 1) 特征向量/特征值演示 --------------------------------------------------\n",
    "M = np.array([[2, 1],\n",
    "              [1, 2]])\n",
    "\n",
    "e_vals, e_vecs = np.linalg.eig(M)\n",
    "\n",
    "# 选一个“普通”向量 v（不是特征向量）\n",
    "v = np.array([1, 0])\n",
    "Mv = M @ v\n",
    "\n",
    "# 取第 1 个特征向量 e\n",
    "e = e_vecs[:, 0]\n",
    "Me = M @ e\n",
    "\n",
    "# 绘图比较：普通向量 v 经过变换方向改变，而特征向量 e 方向不变（只被拉伸）\n",
    "plt.figure()\n",
    "plt.axhline(0)\n",
    "plt.axvline(0)\n",
    "# 起点都放在原点\n",
    "plt.quiver(0, 0, v[0], v[1], angles='xy', scale_units='xy', scale=1)\n",
    "plt.quiver(0, 0, Mv[0], Mv[1], angles='xy', scale_units='xy', scale=1)\n",
    "plt.quiver(0, 0, e[0], e[1], angles='xy', scale_units='xy', scale=1)\n",
    "plt.quiver(0, 0, Me[0], Me[1], angles='xy', scale_units='xy', scale=1)\n",
    "plt.text(v[0], v[1], \"v\", fontsize=9)\n",
    "plt.text(Mv[0], Mv[1], \"M·v\", fontsize=9)\n",
    "plt.text(e[0], e[1], \"eigenvector e\", fontsize=9)\n",
    "plt.text(Me[0], Me[1], \"M·e (同方向)\", fontsize=9)\n",
    "plt.xlim(-1, 3)\n",
    "plt.ylim(-1, 3)\n",
    "plt.gca().set_aspect('equal')\n",
    "plt.title(\"普通向量 vs. 特征向量 变换对比\")\n",
    "plt.show()\n",
    "\n",
    "print(\"M 的特征值:\", e_vals)\n",
    "print()\n",
    "\n",
    "# 2) 秩 (rank) 示例 --------------------------------------------------------\n",
    "A = np.array([[1, 2, 3],\n",
    "              [2, 4, 6],\n",
    "              [3, 6, 9]])  # 每一行都是第一行的倍数 → 线性相关\n",
    "\n",
    "rank_A = np.linalg.matrix_rank(A)\n",
    "print(\"示例矩阵 A =\")\n",
    "print(A)\n",
    "print(\"A 的秩 =\", rank_A)\n"
   ],
   "id": "f91f5e1e32f1ea6f",
   "outputs": [
    {
     "name": "stderr",
     "output_type": "stream",
     "text": [
      "/Users/huayitang/PycharmProjects/WQU_Msc_notes/.venv/lib/python3.12/site-packages/IPython/core/pylabtools.py:170: UserWarning: Glyph 26222 (\\N{CJK UNIFIED IDEOGRAPH-666E}) missing from font(s) Arial.\n",
      "  fig.canvas.print_figure(bytes_io, **kw)\n",
      "/Users/huayitang/PycharmProjects/WQU_Msc_notes/.venv/lib/python3.12/site-packages/IPython/core/pylabtools.py:170: UserWarning: Glyph 36890 (\\N{CJK UNIFIED IDEOGRAPH-901A}) missing from font(s) Arial.\n",
      "  fig.canvas.print_figure(bytes_io, **kw)\n",
      "/Users/huayitang/PycharmProjects/WQU_Msc_notes/.venv/lib/python3.12/site-packages/IPython/core/pylabtools.py:170: UserWarning: Glyph 21521 (\\N{CJK UNIFIED IDEOGRAPH-5411}) missing from font(s) Arial.\n",
      "  fig.canvas.print_figure(bytes_io, **kw)\n",
      "/Users/huayitang/PycharmProjects/WQU_Msc_notes/.venv/lib/python3.12/site-packages/IPython/core/pylabtools.py:170: UserWarning: Glyph 37327 (\\N{CJK UNIFIED IDEOGRAPH-91CF}) missing from font(s) Arial.\n",
      "  fig.canvas.print_figure(bytes_io, **kw)\n",
      "/Users/huayitang/PycharmProjects/WQU_Msc_notes/.venv/lib/python3.12/site-packages/IPython/core/pylabtools.py:170: UserWarning: Glyph 29305 (\\N{CJK UNIFIED IDEOGRAPH-7279}) missing from font(s) Arial.\n",
      "  fig.canvas.print_figure(bytes_io, **kw)\n",
      "/Users/huayitang/PycharmProjects/WQU_Msc_notes/.venv/lib/python3.12/site-packages/IPython/core/pylabtools.py:170: UserWarning: Glyph 24449 (\\N{CJK UNIFIED IDEOGRAPH-5F81}) missing from font(s) Arial.\n",
      "  fig.canvas.print_figure(bytes_io, **kw)\n",
      "/Users/huayitang/PycharmProjects/WQU_Msc_notes/.venv/lib/python3.12/site-packages/IPython/core/pylabtools.py:170: UserWarning: Glyph 21464 (\\N{CJK UNIFIED IDEOGRAPH-53D8}) missing from font(s) Arial.\n",
      "  fig.canvas.print_figure(bytes_io, **kw)\n",
      "/Users/huayitang/PycharmProjects/WQU_Msc_notes/.venv/lib/python3.12/site-packages/IPython/core/pylabtools.py:170: UserWarning: Glyph 25442 (\\N{CJK UNIFIED IDEOGRAPH-6362}) missing from font(s) Arial.\n",
      "  fig.canvas.print_figure(bytes_io, **kw)\n",
      "/Users/huayitang/PycharmProjects/WQU_Msc_notes/.venv/lib/python3.12/site-packages/IPython/core/pylabtools.py:170: UserWarning: Glyph 23545 (\\N{CJK UNIFIED IDEOGRAPH-5BF9}) missing from font(s) Arial.\n",
      "  fig.canvas.print_figure(bytes_io, **kw)\n",
      "/Users/huayitang/PycharmProjects/WQU_Msc_notes/.venv/lib/python3.12/site-packages/IPython/core/pylabtools.py:170: UserWarning: Glyph 27604 (\\N{CJK UNIFIED IDEOGRAPH-6BD4}) missing from font(s) Arial.\n",
      "  fig.canvas.print_figure(bytes_io, **kw)\n",
      "/Users/huayitang/PycharmProjects/WQU_Msc_notes/.venv/lib/python3.12/site-packages/IPython/core/pylabtools.py:170: UserWarning: Glyph 21516 (\\N{CJK UNIFIED IDEOGRAPH-540C}) missing from font(s) Arial.\n",
      "  fig.canvas.print_figure(bytes_io, **kw)\n",
      "/Users/huayitang/PycharmProjects/WQU_Msc_notes/.venv/lib/python3.12/site-packages/IPython/core/pylabtools.py:170: UserWarning: Glyph 26041 (\\N{CJK UNIFIED IDEOGRAPH-65B9}) missing from font(s) Arial.\n",
      "  fig.canvas.print_figure(bytes_io, **kw)\n"
     ]
    },
    {
     "data": {
      "text/plain": [
       "<Figure size 640x480 with 1 Axes>"
      ],
      "image/png": "[encoded data removed]"
     },
     "metadata": {},
     "output_type": "display_data"
    },
    {
     "name": "stdout",
     "output_type": "stream",
     "text": [
      "M 的特征值: [3. 1.]\n",
      "\n",
      "示例矩阵 A =\n",
      "[[1 2 3]\n",
      " [2 4 6]\n",
      " [3 6 9]]\n",
      "A 的秩 = 1\n"
     ]
    }
   ],
   "execution_count": 5
  },
  {
   "metadata": {
    "ExecuteTime": {
     "end_time": "2025-07-03T12:10:03.220543Z",
     "start_time": "2025-07-03T12:10:03.102628Z"
    }
   },
   "cell_type": "code",
   "source": [
    "import numpy as np\n",
    "import matplotlib.pyplot as plt\n",
    "\n",
    "# 矩阵 M：结合拉伸与剪切\n",
    "M = np.array([[1, 0.5],\n",
    "              [0, 1.5]])\n",
    "\n",
    "# 生成 [-1,1] 方格\n",
    "grid_x = np.linspace(-1, 1, 11)\n",
    "grid_y = np.linspace(-1, 1, 11)\n",
    "points = np.array([[x, y] for x in grid_x for y in grid_y])\n",
    "transformed = (M @ points.T).T\n",
    "\n",
    "# 绘图开始\n",
    "plt.figure()\n",
    "plt.scatter(points[:, 0], points[:, 1], s=12, alpha=0.35, label=\"original space\")\n",
    "plt.scatter(transformed[:, 0], transformed[:, 1], s=12, alpha=0.35, label=\"mapped space\")\n",
    "\n",
    "# 标准基 & 变换后基\n",
    "basis = np.array([[1, 0], [0, 1]])\n",
    "trans_basis = (M @ basis.T).T\n",
    "\n",
    "for vec, lab in zip(basis, [\"e1\", \"e2\"]):\n",
    "    plt.quiver(0, 0, vec[0], vec[1],\n",
    "               angles='xy', scale_units='xy', scale=1,\n",
    "               width=0.006, label=lab)\n",
    "\n",
    "for vec, lab in zip(trans_basis, [\"M·e1\", \"M·e2\"]):\n",
    "    plt.quiver(0, 0, vec[0], vec[1],\n",
    "               angles='xy', scale_units='xy', scale=1,\n",
    "               width=0.006, label=lab)\n",
    "\n",
    "plt.axhline(0)\n",
    "plt.axvline(0)\n",
    "plt.gca().set_aspect('equal')\n",
    "plt.xlim(-2, 2)\n",
    "plt.ylim(-2, 2)\n",
    "plt.title(\"Matrix as a map between vector spaces\")\n",
    "plt.legend()\n",
    "plt.show()\n"
   ],
   "id": "1d851c9de39b5bf1",
   "outputs": [
    {
     "data": {
      "text/plain": [
       "<Figure size 640x480 with 1 Axes>"
      ],
      "image/png": "[encoded data removed]"
     },
     "metadata": {},
     "output_type": "display_data"
    }
   ],
   "execution_count": 6
  },
  {
   "metadata": {},
   "cell_type": "code",
   "outputs": [],
   "execution_count": null,
   "source": "",
   "id": "43a22bac77b72443"
  }
 ],
 "metadata": {
  "kernelspec": {
   "display_name": "Python 3",
   "language": "python",
   "name": "python3"
  },
  "language_info": {
   "codemirror_mode": {
    "name": "ipython",
    "version": 2
   },
   "file_extension": ".py",
   "mimetype": "text/x-python",
   "name": "python",
   "nbconvert_exporter": "python",
   "pygments_lexer": "ipython2",
   "version": "2.7.6"
  }
 },
 "nbformat": 4,
 "nbformat_minor": 5
}
